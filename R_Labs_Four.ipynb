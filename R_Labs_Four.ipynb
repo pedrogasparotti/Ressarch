{
 "cells": [
  {
   "cell_type": "markdown",
   "id": "ebad0a2a",
   "metadata": {},
   "source": [
    "## R Lab number 4 from (Statistical Learning - Applications In R)\n",
    "\n",
    "### Machine Learning Classification Methods\n",
    "    \n",
    "Given _Smarket data_ , containing variables such as **Volume** (Number of shares traded on the previous date) **Today** (percentagem return of the stock from the start up to the date in question) and **Direction** (wether the market was Up or Down on the referred date). \n",
    "\n",
    "Each instance represents one specific date;\n",
    "\n",
    "**'Lag1'** to **'Lag5'** are the percentage returns for each of the five previous trading days;\n",
    "\n",
    "The Goal is to predict **Direction** (dependent variable) using other features."
   ]
  },
  {
   "cell_type": "code",
   "execution_count": null,
   "id": "0392ff95",
   "metadata": {},
   "outputs": [
    {
     "name": "stdout",
     "output_type": "stream",
     "text": [
      "      Unnamed: 0  Year   Lag1   Lag2   Lag3   Lag4   Lag5   Volume  Today  \\\n",
      "1245        1246  2005  0.422  0.252 -0.024 -0.584 -0.285  1.88850  0.043   \n",
      "1246        1247  2005  0.043  0.422  0.252 -0.024 -0.584  1.28581 -0.955   \n",
      "1247        1248  2005 -0.955  0.043  0.422  0.252 -0.024  1.54047  0.130   \n",
      "1248        1249  2005  0.130 -0.955  0.043  0.422  0.252  1.42236 -0.298   \n",
      "1249        1250  2005 -0.298  0.130 -0.955  0.043  0.422  1.38254 -0.489   \n",
      "\n",
      "     Direction  \n",
      "1245        Up  \n",
      "1246      Down  \n",
      "1247        Up  \n",
      "1248      Down  \n",
      "1249      Down  \n",
      "\n",
      "\n",
      "Variable Names:  Index(['Unnamed: 0', 'Year', 'Lag1', 'Lag2', 'Lag3', 'Lag4', 'Lag5', 'Volume',\n",
      "       'Today', 'Direction'],\n",
      "      dtype='object')\n",
      "\n",
      "\n",
      "Dataset Dimensions (1250, 10)\n",
      "\n",
      "\n",
      "        Unnamed: 0         Year         Lag1         Lag2         Lag3  \\\n",
      "count  1250.000000  1250.000000  1250.000000  1250.000000  1250.000000   \n",
      "mean    625.500000  2003.016000     0.003834     0.003919     0.001716   \n",
      "std     360.988227     1.409018     1.136299     1.136280     1.138703   \n",
      "min       1.000000  2001.000000    -4.922000    -4.922000    -4.922000   \n",
      "25%     313.250000  2002.000000    -0.639500    -0.639500    -0.640000   \n",
      "50%     625.500000  2003.000000     0.039000     0.039000     0.038500   \n",
      "75%     937.750000  2004.000000     0.596750     0.596750     0.596750   \n",
      "max    1250.000000  2005.000000     5.733000     5.733000     5.733000   \n",
      "\n",
      "              Lag4        Lag5       Volume        Today  \n",
      "count  1250.000000  1250.00000  1250.000000  1250.000000  \n",
      "mean      0.001636     0.00561     1.478305     0.003138  \n",
      "std       1.138774     1.14755     0.360357     1.136334  \n",
      "min      -4.922000    -4.92200     0.356070    -4.922000  \n",
      "25%      -0.640000    -0.64000     1.257400    -0.639500  \n",
      "50%       0.038500     0.03850     1.422950     0.038500  \n",
      "75%       0.596750     0.59700     1.641675     0.596750  \n",
      "max       5.733000     5.73300     3.152470     5.733000  \n"
     ]
    },
    {
     "data": {
      "text/plain": [
       "<seaborn.axisgrid.PairGrid at 0x1c535219a50>"
      ]
     },
     "execution_count": 6,
     "metadata": {},
     "output_type": "execute_result"
    }
   ],
   "source": [
    "import pandas as pd\n",
    "import seaborn as sns\n",
    "import statsmodels.api as sm\n",
    "\n",
    "# Load the Smarket data set\n",
    "Smarket = pd.read_csv(\"https://raw.githubusercontent.com/JWarmenhoven/ISLR-python/master/Notebooks/Data/Smarket.csv\")\n",
    "\n",
    "# renaming first column to \"instance\"\n",
    "\n",
    "Smarket.rename(columns = {'Unnamed: 0' : 'Instance'}, inplace=True)\n",
    "\n",
    "# Describe Dataset\n",
    "\n",
    "print(Smarket.tail())\n",
    "\n",
    "print(\"\\n\") # Just making code more ~spaced out~ for a better understanding\n",
    "\n",
    "# Display the variable names\n",
    "print(\"Variable Names: \", Smarket.columns)\n",
    "print(\"\\n\")\n",
    "# Display the dimensions of the data set\n",
    "print(\"Dataset Dimensions\", Smarket.shape)\n",
    "print(\"\\n\")\n",
    "# Display summary statistics of the data set\n",
    "print(Smarket.describe())\n",
    "\n",
    "# Create a pairs plot\n",
    "sns.pairplot(Smarket)"
   ]
  },
  {
   "cell_type": "code",
   "execution_count": 29,
   "id": "6ecd02e3",
   "metadata": {},
   "outputs": [
    {
     "name": "stdout",
     "output_type": "stream",
     "text": [
      "            Unnamed: 0      Year      Lag1      Lag2      Lag3      Lag4  \\\n",
      "Unnamed: 0    1.000000  0.979773  0.035415  0.036022  0.038989  0.041437   \n",
      "Year          0.979773  1.000000  0.029700  0.030596  0.033195  0.035689   \n",
      "Lag1          0.035415  0.029700  1.000000 -0.026294 -0.010803 -0.002986   \n",
      "Lag2          0.036022  0.030596 -0.026294  1.000000 -0.025897 -0.010854   \n",
      "Lag3          0.038989  0.033195 -0.010803 -0.025897  1.000000 -0.024051   \n",
      "Lag4          0.041437  0.035689 -0.002986 -0.010854 -0.024051  1.000000   \n",
      "Lag5          0.035025  0.029788 -0.005675 -0.003558 -0.018808 -0.027084   \n",
      "Volume        0.546348  0.539006  0.040910 -0.043383 -0.041824 -0.048414   \n",
      "Today         0.035273  0.030095 -0.026155 -0.010250 -0.002448 -0.006900   \n",
      "\n",
      "                Lag5    Volume     Today  \n",
      "Unnamed: 0  0.035025  0.546348  0.035273  \n",
      "Year        0.029788  0.539006  0.030095  \n",
      "Lag1       -0.005675  0.040910 -0.026155  \n",
      "Lag2       -0.003558 -0.043383 -0.010250  \n",
      "Lag3       -0.018808 -0.041824 -0.002448  \n",
      "Lag4       -0.027084 -0.048414 -0.006900  \n",
      "Lag5        1.000000 -0.022002 -0.034860  \n",
      "Volume     -0.022002  1.000000  0.014592  \n",
      "Today      -0.034860  0.014592  1.000000  \n"
     ]
    },
    {
     "name": "stderr",
     "output_type": "stream",
     "text": [
      "C:\\Users\\pedro\\AppData\\Local\\Temp\\ipykernel_15984\\3066322186.py:5: FutureWarning: The default value of numeric_only in DataFrame.corr is deprecated. In a future version, it will default to False. Select only valid columns or specify the value of numeric_only to silence this warning.\n",
      "  corr_matrix = Smarket.corr()\n"
     ]
    },
    {
     "data": {
      "text/html": [
       "<div>\n",
       "<style scoped>\n",
       "    .dataframe tbody tr th:only-of-type {\n",
       "        vertical-align: middle;\n",
       "    }\n",
       "\n",
       "    .dataframe tbody tr th {\n",
       "        vertical-align: top;\n",
       "    }\n",
       "\n",
       "    .dataframe thead th {\n",
       "        text-align: right;\n",
       "    }\n",
       "</style>\n",
       "<table border=\"1\" class=\"dataframe\">\n",
       "  <thead>\n",
       "    <tr style=\"text-align: right;\">\n",
       "      <th></th>\n",
       "      <th>Unnamed: 0</th>\n",
       "      <th>Year</th>\n",
       "      <th>Lag1</th>\n",
       "      <th>Lag2</th>\n",
       "      <th>Lag3</th>\n",
       "      <th>Lag4</th>\n",
       "      <th>Lag5</th>\n",
       "      <th>Volume</th>\n",
       "      <th>Today</th>\n",
       "      <th>Direction</th>\n",
       "    </tr>\n",
       "  </thead>\n",
       "  <tbody>\n",
       "    <tr>\n",
       "      <th>1245</th>\n",
       "      <td>1246</td>\n",
       "      <td>2005</td>\n",
       "      <td>0.422</td>\n",
       "      <td>0.252</td>\n",
       "      <td>-0.024</td>\n",
       "      <td>-0.584</td>\n",
       "      <td>-0.285</td>\n",
       "      <td>1.88850</td>\n",
       "      <td>0.043</td>\n",
       "      <td>Up</td>\n",
       "    </tr>\n",
       "    <tr>\n",
       "      <th>1246</th>\n",
       "      <td>1247</td>\n",
       "      <td>2005</td>\n",
       "      <td>0.043</td>\n",
       "      <td>0.422</td>\n",
       "      <td>0.252</td>\n",
       "      <td>-0.024</td>\n",
       "      <td>-0.584</td>\n",
       "      <td>1.28581</td>\n",
       "      <td>-0.955</td>\n",
       "      <td>Down</td>\n",
       "    </tr>\n",
       "    <tr>\n",
       "      <th>1247</th>\n",
       "      <td>1248</td>\n",
       "      <td>2005</td>\n",
       "      <td>-0.955</td>\n",
       "      <td>0.043</td>\n",
       "      <td>0.422</td>\n",
       "      <td>0.252</td>\n",
       "      <td>-0.024</td>\n",
       "      <td>1.54047</td>\n",
       "      <td>0.130</td>\n",
       "      <td>Up</td>\n",
       "    </tr>\n",
       "    <tr>\n",
       "      <th>1248</th>\n",
       "      <td>1249</td>\n",
       "      <td>2005</td>\n",
       "      <td>0.130</td>\n",
       "      <td>-0.955</td>\n",
       "      <td>0.043</td>\n",
       "      <td>0.422</td>\n",
       "      <td>0.252</td>\n",
       "      <td>1.42236</td>\n",
       "      <td>-0.298</td>\n",
       "      <td>Down</td>\n",
       "    </tr>\n",
       "    <tr>\n",
       "      <th>1249</th>\n",
       "      <td>1250</td>\n",
       "      <td>2005</td>\n",
       "      <td>-0.298</td>\n",
       "      <td>0.130</td>\n",
       "      <td>-0.955</td>\n",
       "      <td>0.043</td>\n",
       "      <td>0.422</td>\n",
       "      <td>1.38254</td>\n",
       "      <td>-0.489</td>\n",
       "      <td>Down</td>\n",
       "    </tr>\n",
       "  </tbody>\n",
       "</table>\n",
       "</div>"
      ],
      "text/plain": [
       "      Unnamed: 0  Year   Lag1   Lag2   Lag3   Lag4   Lag5   Volume  Today  \\\n",
       "1245        1246  2005  0.422  0.252 -0.024 -0.584 -0.285  1.88850  0.043   \n",
       "1246        1247  2005  0.043  0.422  0.252 -0.024 -0.584  1.28581 -0.955   \n",
       "1247        1248  2005 -0.955  0.043  0.422  0.252 -0.024  1.54047  0.130   \n",
       "1248        1249  2005  0.130 -0.955  0.043  0.422  0.252  1.42236 -0.298   \n",
       "1249        1250  2005 -0.298  0.130 -0.955  0.043  0.422  1.38254 -0.489   \n",
       "\n",
       "     Direction  \n",
       "1245        Up  \n",
       "1246      Down  \n",
       "1247        Up  \n",
       "1248      Down  \n",
       "1249      Down  "
      ]
     },
     "execution_count": 29,
     "metadata": {},
     "output_type": "execute_result"
    }
   ],
   "source": [
    "# Calculate the correlation matrix of the Smarket data set\n",
    "# Note: this will result in an error in R because the \"Direction\" column is non-numeric\n",
    "# In Python, we can still calculate the correlation matrix, but we need to exclude the non-numeric \"Direction\" column\n",
    "\n",
    "corr_matrix = Smarket.corr()\n",
    "\n",
    "# Display the correlation matrix\n",
    "print(corr_matrix)\n",
    "\n",
    "# Alternatively, we can calculate the correlation matrix using only the numeric columns of the data set\n",
    "# This is equivalent to excluding the \"Direction\" column in R\n",
    "# numeric_cols = Smarket.drop(columns=[\"Direction\"])\n",
    "# corr_matrix_numeric = numeric_cols.corr()\n",
    "\n",
    "# Display the correlation matrix using only the numeric columns\n",
    "# print(corr_matrix_numeric)"
   ]
  },
  {
   "cell_type": "code",
   "execution_count": 30,
   "id": "b68c3b95",
   "metadata": {},
   "outputs": [
    {
     "data": {
      "image/png": "[encoded data removed]",
      "text/plain": [
       "<Figure size 640x480 with 1 Axes>"
      ]
     },
     "metadata": {},
     "output_type": "display_data"
    },
    {
     "data": {
      "text/html": [
       "<div>\n",
       "<style scoped>\n",
       "    .dataframe tbody tr th:only-of-type {\n",
       "        vertical-align: middle;\n",
       "    }\n",
       "\n",
       "    .dataframe tbody tr th {\n",
       "        vertical-align: top;\n",
       "    }\n",
       "\n",
       "    .dataframe thead th {\n",
       "        text-align: right;\n",
       "    }\n",
       "</style>\n",
       "<table border=\"1\" class=\"dataframe\">\n",
       "  <thead>\n",
       "    <tr style=\"text-align: right;\">\n",
       "      <th></th>\n",
       "      <th>Year</th>\n",
       "      <th>Lag1</th>\n",
       "      <th>Lag2</th>\n",
       "      <th>Lag3</th>\n",
       "      <th>Lag4</th>\n",
       "      <th>Lag5</th>\n",
       "      <th>Volume</th>\n",
       "      <th>Today</th>\n",
       "      <th>Direction</th>\n",
       "    </tr>\n",
       "  </thead>\n",
       "  <tbody>\n",
       "    <tr>\n",
       "      <th>1245</th>\n",
       "      <td>2005</td>\n",
       "      <td>0.422</td>\n",
       "      <td>0.252</td>\n",
       "      <td>-0.024</td>\n",
       "      <td>-0.584</td>\n",
       "      <td>-0.285</td>\n",
       "      <td>1.88850</td>\n",
       "      <td>0.043</td>\n",
       "      <td>Up</td>\n",
       "    </tr>\n",
       "    <tr>\n",
       "      <th>1246</th>\n",
       "      <td>2005</td>\n",
       "      <td>0.043</td>\n",
       "      <td>0.422</td>\n",
       "      <td>0.252</td>\n",
       "      <td>-0.024</td>\n",
       "      <td>-0.584</td>\n",
       "      <td>1.28581</td>\n",
       "      <td>-0.955</td>\n",
       "      <td>Down</td>\n",
       "    </tr>\n",
       "    <tr>\n",
       "      <th>1247</th>\n",
       "      <td>2005</td>\n",
       "      <td>-0.955</td>\n",
       "      <td>0.043</td>\n",
       "      <td>0.422</td>\n",
       "      <td>0.252</td>\n",
       "      <td>-0.024</td>\n",
       "      <td>1.54047</td>\n",
       "      <td>0.130</td>\n",
       "      <td>Up</td>\n",
       "    </tr>\n",
       "    <tr>\n",
       "      <th>1248</th>\n",
       "      <td>2005</td>\n",
       "      <td>0.130</td>\n",
       "      <td>-0.955</td>\n",
       "      <td>0.043</td>\n",
       "      <td>0.422</td>\n",
       "      <td>0.252</td>\n",
       "      <td>1.42236</td>\n",
       "      <td>-0.298</td>\n",
       "      <td>Down</td>\n",
       "    </tr>\n",
       "    <tr>\n",
       "      <th>1249</th>\n",
       "      <td>2005</td>\n",
       "      <td>-0.298</td>\n",
       "      <td>0.130</td>\n",
       "      <td>-0.955</td>\n",
       "      <td>0.043</td>\n",
       "      <td>0.422</td>\n",
       "      <td>1.38254</td>\n",
       "      <td>-0.489</td>\n",
       "      <td>Down</td>\n",
       "    </tr>\n",
       "  </tbody>\n",
       "</table>\n",
       "</div>"
      ],
      "text/plain": [
       "      Year   Lag1   Lag2   Lag3   Lag4   Lag5   Volume  Today Direction\n",
       "1245  2005  0.422  0.252 -0.024 -0.584 -0.285  1.88850  0.043        Up\n",
       "1246  2005  0.043  0.422  0.252 -0.024 -0.584  1.28581 -0.955      Down\n",
       "1247  2005 -0.955  0.043  0.422  0.252 -0.024  1.54047  0.130        Up\n",
       "1248  2005  0.130 -0.955  0.043  0.422  0.252  1.42236 -0.298      Down\n",
       "1249  2005 -0.298  0.130 -0.955  0.043  0.422  1.38254 -0.489      Down"
      ]
     },
     "execution_count": 30,
     "metadata": {},
     "output_type": "execute_result"
    }
   ],
   "source": [
    "import pandas as pd\n",
    "import matplotlib.pyplot as plt\n",
    "\n",
    "# Load the Smarket data into a pandas DataFrame\n",
    "Smarket = pd.read_csv('Smarket.csv')\n",
    "\n",
    "# Attach the data frame so that its variables can be accessed by name without $ notation\n",
    "# pd.options.mode.chained_assignment = None  # disable the SettingWithCopyWarning\n",
    "\n",
    "Smarket = Smarket.drop(columns=['Unnamed: 0'])\n",
    "\n",
    "# Create a plot of the Volume variable\n",
    "plt.plot(Smarket['Volume'])\n",
    "plt.show()\n",
    "\n",
    "Smarket.tail()"
   ]
  },
  {
   "cell_type": "code",
   "execution_count": 4,
   "id": "6c9e070d",
   "metadata": {},
   "outputs": [
    {
     "name": "stdout",
     "output_type": "stream",
     "text": [
      "                          Generalized Linear Model Regression Results                           \n",
      "================================================================================================\n",
      "Dep. Variable:     ['Direction[Down]', 'Direction[Up]']   No. Observations:                 1250\n",
      "Model:                                              GLM   Df Residuals:                     1243\n",
      "Model Family:                                  Binomial   Df Model:                            6\n",
      "Link Function:                                    Logit   Scale:                          1.0000\n",
      "Method:                                            IRLS   Log-Likelihood:                -863.79\n",
      "Date:                                  Fri, 21 Apr 2023   Deviance:                       1727.6\n",
      "Time:                                          11:10:09   Pearson chi2:                 1.25e+03\n",
      "No. Iterations:                                       4   Pseudo R-squ. (CS):           0.002868\n",
      "Covariance Type:                              nonrobust                                         \n",
      "==============================================================================\n",
      "                 coef    std err          z      P>|z|      [0.025      0.975]\n",
      "------------------------------------------------------------------------------\n",
      "Intercept      0.1260      0.241      0.523      0.601      -0.346       0.598\n",
      "Lag1           0.0731      0.050      1.457      0.145      -0.025       0.171\n",
      "Lag2           0.0423      0.050      0.845      0.398      -0.056       0.140\n",
      "Lag3          -0.0111      0.050     -0.222      0.824      -0.109       0.087\n",
      "Lag4          -0.0094      0.050     -0.187      0.851      -0.107       0.089\n",
      "Lag5          -0.0103      0.050     -0.208      0.835      -0.107       0.087\n",
      "Volume        -0.1354      0.158     -0.855      0.392      -0.446       0.175\n",
      "==============================================================================\n"
     ]
    }
   ],
   "source": [
    "# note that statsmodels.formula.api is a submodule from statsmodels. The statsmodels.formula provides a formula framework for\n",
    "# specifying statistical models in Python It makes possible to specify models using R-style formulas\n",
    "\n",
    "import statsmodels.formula.api as smf\n",
    "\n",
    "# Load Smarket.csv file into a pandas dataframe\n",
    "\n",
    "Smarket = pd.read_csv('Smarket.csv')\n",
    "\n",
    "# Fit a logistic regression model to predict Direction based on Lag1, Lag2, Lag3, Lag4, Lag5 and Volume\n",
    "# GLM Stands for: Generalized Linear Model\n",
    "\n",
    "glm_fit = smf.glm('Direction ~ Lag1 + Lag2 + Lag3 + Lag4 + Lag5 + Volume', data=Smarket, family=sm.families.Binomial()).fit()\n",
    "\n",
    "# Print a summary of the fitted model\n",
    "print(glm_fit.summary())"
   ]
  },
  {
   "cell_type": "markdown",
   "id": "466beb34",
   "metadata": {
    "scrolled": false
   },
   "source": [
    "### So next, given the correlation between volume and year, it's convenient to try a Generalized Linear Model\n",
    "\n",
    "See what happens"
   ]
  },
  {
   "cell_type": "code",
   "execution_count": 5,
   "id": "3ebbe01f",
   "metadata": {},
   "outputs": [
    {
     "name": "stdout",
     "output_type": "stream",
     "text": [
      "Intercept    0.126000\n",
      "Lag1         0.073074\n",
      "Lag2         0.042301\n",
      "Lag3        -0.011085\n",
      "Lag4        -0.009359\n",
      "Lag5        -0.010313\n",
      "Volume      -0.135441\n",
      "dtype: float64\n",
      "==============================================================================\n",
      "                 coef    std err          z      P>|z|      [0.025      0.975]\n",
      "------------------------------------------------------------------------------\n",
      "Intercept      0.1260      0.241      0.523      0.601      -0.346       0.598\n",
      "Lag1           0.0731      0.050      1.457      0.145      -0.025       0.171\n",
      "Lag2           0.0423      0.050      0.845      0.398      -0.056       0.140\n",
      "Lag3          -0.0111      0.050     -0.222      0.824      -0.109       0.087\n",
      "Lag4          -0.0094      0.050     -0.187      0.851      -0.107       0.089\n",
      "Lag5          -0.0103      0.050     -0.208      0.835      -0.107       0.087\n",
      "Volume        -0.1354      0.158     -0.855      0.392      -0.446       0.175\n",
      "==============================================================================\n",
      "['Lag3', '   -0.0111', '    0.050', '   -0.222', ' 0.824', '   -0.109', '    0.087']\n"
     ]
    }
   ],
   "source": [
    "# Load the Smarket data\n",
    "smarket = pd.read_csv('Smarket.csv', index_col=0, parse_dates=True)\n",
    "\n",
    "# Create the logistic regression model\n",
    "glm_fit = sm.formula.glm(\n",
    "    formula='Direction ~ Lag1 + Lag2 + Lag3 + Lag4 + Lag5 + Volume',\n",
    "    data=smarket,\n",
    "    family=sm.families.Binomial()\n",
    ").fit()\n",
    "\n",
    "# Print the coefficients\n",
    "print(glm_fit.params)\n",
    "\n",
    "# Print the summary of the coefficients\n",
    "print(glm_fit.summary().tables[1])\n",
    "\n",
    "# Print the Pr(>|z|) values for the coefficients\n",
    "print(glm_fit.summary().tables[1].data[4])"
   ]
  },
  {
   "cell_type": "code",
   "execution_count": 6,
   "id": "cea18641",
   "metadata": {},
   "outputs": [
    {
     "name": "stdout",
     "output_type": "stream",
     "text": [
      "[0.49291587 0.51853212 0.51886117 0.48477764 0.48921884 0.49304354\n",
      " 0.50734913 0.49077084 0.48238647 0.51116222]\n"
     ]
    }
   ],
   "source": [
    "# Predict the probabilities of the market going up\n",
    "glm_prods = glm_fit.predict()\n",
    "\n",
    "# Print the first ten probabilities\n",
    "print(glm_prods[0:10])\n",
    "\n",
    "# Create a dictionary for the Direction variable\n",
    "Direction = {\"Down\": 0, \"Up\": 1}\n",
    "\n",
    "# Create a vector of class predictions based on whether the predicted probability of a market increase is greater than or less than 0.5\n",
    "glm_pred = [\"Down\"] * 1250\n",
    "glm_pred = [\"Up\" if p > 0.5 else \"Down\" for p in glm_prods]"
   ]
  },
  {
   "cell_type": "code",
   "execution_count": 7,
   "id": "ac1249a3",
   "metadata": {},
   "outputs": [
    {
     "name": "stdout",
     "output_type": "stream",
     "text": [
      "Direction  Down  Up\n",
      "row_0              \n",
      "Down         74  93\n",
      "Up           37  48\n",
      "0.48412698412698413\n"
     ]
    }
   ],
   "source": [
    "import numpy as np\n",
    "from sklearn.linear_model import LogisticRegression\n",
    "\n",
    "# load data\n",
    "smarket = pd.read_csv('Smarket.csv')\n",
    "Direction = smarket['Direction']\n",
    "\n",
    "# set training data\n",
    "train = smarket['Year'] < 2005\n",
    "X_train = smarket[train][['Lag1', 'Lag2', 'Lag3', 'Lag4', 'Lag5', 'Volume']]\n",
    "y_train = Direction[train]\n",
    "\n",
    "# set test data\n",
    "test = smarket['Year'] == 2005\n",
    "X_test = smarket[test][['Lag1', 'Lag2', 'Lag3', 'Lag4', 'Lag5', 'Volume']]\n",
    "y_test = Direction[test]\n",
    "\n",
    "# fit logistic regression model\n",
    "glm_fit = LogisticRegression(random_state=0).fit(X_train, y_train)\n",
    "\n",
    "# predict the probabilities that the market will go up for the test data\n",
    "glm_probs = glm_fit.predict_proba(X_test)[:,1]\n",
    "\n",
    "# Create a vector of class predictions based on whether the predicted probability of a market increase is greater than or less than 0.5\n",
    "glm_pred = np.where(glm_probs > 0.5, \"Up\", \"Down\")\n",
    "\n",
    "# create confusion matrix\n",
    "confusion_matrix = pd.crosstab(glm_pred, y_test)\n",
    "print(confusion_matrix)\n",
    "\n",
    "# calculate the fraction of correct predictions\n",
    "correct_pred = np.sum(np.diagonal(confusion_matrix))\n",
    "total_pred = np.sum(confusion_matrix.values)\n",
    "fraction_correct = correct_pred / total_pred\n",
    "print(fraction_correct)"
   ]
  },
  {
   "cell_type": "code",
   "execution_count": 8,
   "id": "419b14ca",
   "metadata": {},
   "outputs": [
    {
     "name": "stdout",
     "output_type": "stream",
     "text": [
      "(252, 10)\n"
     ]
    }
   ],
   "source": [
    "# Create a boolean mask for observations from 2001 through 2004\n",
    "train = (Smarket['Year'] < 2005).values\n",
    "\n",
    "# Create held-out data set of observations from 2005\n",
    "Smarket_2005 = Smarket[~train]\n",
    "print(Smarket_2005.shape)\n",
    "\n",
    "# Create vector of directions for held-out data set\n",
    "Direction_2005 = Direction[~train]"
   ]
  },
  {
   "cell_type": "markdown",
   "id": "8d6f89cd",
   "metadata": {},
   "source": [
    "252 indicates the number of rows in the data structure, 10 indicates the number of columns.\n",
    "\n",
    "#### The train set refers to the subset of observations from the stock market data set that correspond to dates before 2005. The test set, on the other hand, refers to the subset of observations from the stock market data set that correspond to dates in 2005.\n",
    "\n",
    "now, the linear fit should look like:"
   ]
  },
  {
   "cell_type": "code",
   "execution_count": 9,
   "id": "ee201b76",
   "metadata": {},
   "outputs": [
    {
     "name": "stdout",
     "output_type": "stream",
     "text": [
      "0.48412698412698413\n",
      "0.5158730158730159\n"
     ]
    }
   ],
   "source": [
    "from sklearn.linear_model import LogisticRegression\n",
    "\n",
    "X_train = Smarket.loc[train, ['Lag1', 'Lag2', 'Lag3', 'Lag4', 'Lag5', 'Volume']]\n",
    "y_train = Smarket.loc[train, 'Direction']\n",
    "glm_fit = LogisticRegression().fit(X_train, y_train)\n",
    "\n",
    "# Obtain predicted probabilities of the stock market going up for each of the days in our test set\n",
    "X_test = Smarket_2005[['Lag1', 'Lag2', 'Lag3', 'Lag4', 'Lag5', 'Volume']]\n",
    "glm_probs = glm_fit.predict_proba(X_test)[:, 1]\n",
    "\n",
    "glm_pred = np.where(glm_probs > 0.5, 'Up', 'Down')\n",
    "accuracy = np.mean(glm_pred == Smarket_2005['Direction'])\n",
    "error_rate = np.mean(glm_pred != Smarket_2005['Direction'])\n",
    "\n",
    "print(accuracy)\n",
    "print(error_rate)"
   ]
  },
  {
   "cell_type": "markdown",
   "id": "7da7cfaa",
   "metadata": {},
   "source": [
    "48% of accuracy is as bad as randon picking anything lol\n",
    "\n",
    "removing the variables that appear not to be helpful in predicting Direction, we can obtain a more effective model:"
   ]
  },
  {
   "cell_type": "code",
   "execution_count": 10,
   "id": "92e886d2",
   "metadata": {},
   "outputs": [
    {
     "name": "stdout",
     "output_type": "stream",
     "text": [
      "Accuracy: 0.5595238095238095\n",
      "Error rate: 0.44047619047619047\n"
     ]
    }
   ],
   "source": [
    "X_train = Smarket.loc[train, ['Lag1', 'Lag2']]\n",
    "y_train = Smarket.loc[train, 'Direction']\n",
    "glm_fit = LogisticRegression().fit(X_train, y_train)\n",
    "\n",
    "# Obtain predicted probabilities of the stock market going up for each of the days in our test set\n",
    "X_test = Smarket_2005[['Lag1', 'Lag2']]\n",
    "glm_probs = glm_fit.predict_proba(X_test)[:, 1]\n",
    "\n",
    "glm_pred = np.where(glm_probs > 0.5, 'Up', 'Down')\n",
    "accuracy = np.mean(glm_pred == Direction_2005)\n",
    "error_rate = np.mean(glm_pred != Direction_2005)\n",
    "\n",
    "print(\"Accuracy:\", accuracy)\n",
    "print(\"Error rate:\", error_rate)"
   ]
  },
  {
   "cell_type": "markdown",
   "id": "32929d0b",
   "metadata": {},
   "source": [
    "it just got better"
   ]
  },
  {
   "cell_type": "code",
   "execution_count": 11,
   "id": "6ccc14df",
   "metadata": {},
   "outputs": [
    {
     "name": "stdout",
     "output_type": "stream",
     "text": [
      "[0.47922465 0.49614354]\n"
     ]
    }
   ],
   "source": [
    "X_new = pd.DataFrame({'Lag1': [1.2, 1.5], 'Lag2': [1.1, -0.8]})\n",
    "glm_probs = glm_fit.predict_proba(X_new)[:, 1]\n",
    "\n",
    "# Print predicted probabilities of Direction = 'Up'\n",
    "print(glm_probs)"
   ]
  },
  {
   "cell_type": "markdown",
   "id": "a1a6e902",
   "metadata": {},
   "source": [
    "The above output is the prediction of Direction on a day when Lag1 and Lag2 equal 1.2 and 1.1, respectively, and on a day when they equal 1.5 and −0.8"
   ]
  },
  {
   "cell_type": "markdown",
   "id": "19a2dab9",
   "metadata": {},
   "source": [
    "### Now for Linear Discriminant Analysis"
   ]
  },
  {
   "cell_type": "code",
   "execution_count": 12,
   "id": "85b5ef59",
   "metadata": {},
   "outputs": [],
   "source": [
    "from sklearn.discriminant_analysis import LinearDiscriminantAnalysis\n",
    "\n",
    "# That's the library to use in order to achieve LDA"
   ]
  },
  {
   "cell_type": "code",
   "execution_count": 13,
   "id": "04c0f442",
   "metadata": {
    "scrolled": true
   },
   "outputs": [
    {
     "name": "stdout",
     "output_type": "stream",
     "text": [
      "Prior probabilities of groups:\n",
      "[0.49198397 0.50801603]\n",
      "Group means:\n",
      "[[ 0.04279022  0.03389409]\n",
      " [-0.03954635 -0.03132544]]\n"
     ]
    }
   ],
   "source": [
    "train = (Smarket['Year'] < 2005).values\n",
    "\n",
    "# Create LDA model using Lag1 and Lag2 as predictors\n",
    "X_train = Smarket.loc[train, ['Lag1', 'Lag2']]\n",
    "y_train = Smarket.loc[train, 'Direction']\n",
    "lda_fit = LinearDiscriminantAnalysis().fit(X_train, y_train)\n",
    "\n",
    "# Display the prior probabilities and group means\n",
    "print(\"Prior probabilities of groups:\")\n",
    "print(lda_fit.priors_)\n",
    "\n",
    "print(\"Group means:\")\n",
    "print(lda_fit.means_)"
   ]
  },
  {
   "cell_type": "markdown",
   "id": "e039446f",
   "metadata": {},
   "source": [
    "### Ok this output represents a few things:\n",
    "\n",
    "1) The \"Prior probabilities of groups\" refer to the prior probabilities of the two levels of the \"Direction\" variable, which are \"Up\" and \"Down\".\n",
    "\n",
    "2) The first number (0.49198397) represents the prior probability of the \"Down\" level, while the second number (0.50801603) represents the prior probability of the \"Up\" level.\n",
    "\n",
    "3) These numbers indicate that there were slightly more \"Up\" days than \"Down\" days in the training set.\n",
    "\n",
    "4) The \"Group means\" refer to the means of the \"Lag1\" and \"Lag2\" variables for each level of the \"Direction\" variable. The first row represents the means for the \"Down\" level, and the second row represents the means for the \"Up\" level. The first column represents the mean of the \"Lag1\" variable, and the second column represents the mean of the \"Lag2\" variable. These numbers indicate that, on average, the \"Lag1\" and \"Lag2\" values were slightly higher on \"Down\" days than on \"Up\" days."
   ]
  },
  {
   "cell_type": "code",
   "execution_count": 14,
   "id": "48cf281c",
   "metadata": {},
   "outputs": [
    {
     "name": "stdout",
     "output_type": "stream",
     "text": [
      "Coefficients of linear discriminants:\n",
      "[[-0.05544078 -0.0443452 ]]\n"
     ]
    },
    {
     "data": {
      "image/png": "[encoded data removed]",
      "text/plain": [
       "<Figure size 640x480 with 1 Axes>"
      ]
     },
     "metadata": {},
     "output_type": "display_data"
    }
   ],
   "source": [
    "print(\"Coefficients of linear discriminants:\")\n",
    "print(lda_fit.coef_)\n",
    "\n",
    "plt.figure()\n",
    "plt.title('LDA plot')\n",
    "plt.xlabel('LD1')\n",
    "plt.ylabel('LD2')\n",
    "plt.scatter(lda_fit.transform(X_train), y_train)\n",
    "plt.show()"
   ]
  },
  {
   "cell_type": "code",
   "execution_count": 15,
   "id": "04a9a808",
   "metadata": {},
   "outputs": [
    {
     "name": "stderr",
     "output_type": "stream",
     "text": [
      "C:\\Users\\pedro\\AppData\\Local\\Programs\\Python\\Python311\\Lib\\site-packages\\sklearn\\base.py:420: UserWarning: X does not have valid feature names, but LinearDiscriminantAnalysis was fitted with feature names\n",
      "  warnings.warn(\n",
      "C:\\Users\\pedro\\AppData\\Local\\Temp\\ipykernel_15984\\2281583769.py:13: UserWarning: No data for colormapping provided via 'c'. Parameters 'cmap' will be ignored\n",
      "  plt.scatter(X_train['Lag1'], X_train['Lag2'], c = 'blue', cmap='coolwarm')\n"
     ]
    },
    {
     "data": {
      "image/png": "[encoded data removed]",
      "text/plain": [
       "<Figure size 640x480 with 1 Axes>"
      ]
     },
     "metadata": {},
     "output_type": "display_data"
    }
   ],
   "source": [
    "# plotting the curve of the results based\n",
    "\n",
    "import numpy as np\n",
    "import matplotlib.pyplot as plt\n",
    "\n",
    "x_min, x_max = X_train['Lag1'].min() - 0.1, X_train['Lag1'].max() + 0.1\n",
    "y_min, y_max = X_train['Lag2'].min() - 0.1, X_train['Lag2'].max() + 0.1\n",
    "\n",
    "\n",
    "xx, yy = np.meshgrid(np.linspace(x_min, x_max, 100), np.linspace(y_min, y_max, 100))\n",
    "\n",
    "\n",
    "Z = lda_fit.predict_proba(np.c_[xx.ravel(), yy.ravel()])[:, 1]\n",
    "Z = Z.reshape(xx.shape)\n",
    "\n",
    "plt.contour(xx, yy, Z, levels=[0.5], colors='red')\n",
    "plt.scatter(X_train['Lag1'], X_train['Lag2'], c = 'blue', cmap='coolwarm')\n",
    "plt.xlabel('Lag1')\n",
    "plt.ylabel('Lag2')\n",
    "plt.title('Linear Discriminant Curve')\n",
    "plt.show()"
   ]
  },
  {
   "cell_type": "code",
   "execution_count": 16,
   "id": "d6372184",
   "metadata": {},
   "outputs": [
    {
     "name": "stdout",
     "output_type": "stream",
     "text": [
      "             Predicted Down  Predicted Up\n",
      "Actual Down              35            76\n",
      "Actual Up                35           106\n",
      "Accuracy: 0.5595238095238095\n"
     ]
    }
   ],
   "source": [
    "from sklearn.metrics import accuracy_score\n",
    "from sklearn.metrics import confusion_matrix\n",
    "\n",
    "# set test data\n",
    "test = smarket['Year'] == 2005\n",
    "X_test = smarket[test][['Lag1', 'Lag2']]\n",
    "y_test = Direction[test]\n",
    "\n",
    "# make predictions\n",
    "lda_pred = lda_fit.predict(X_test)\n",
    "\n",
    "# calculate the accuracy of the predictions\n",
    "accuracy = accuracy_score(y_test, lda_pred)\n",
    "\n",
    "# create confusion matrix\n",
    "cm = confusion_matrix(y_test, lda_pred)\n",
    "\n",
    "# add labels to rows and columns\n",
    "cm_df = pd.DataFrame(cm, columns=['Predicted Down', 'Predicted Up'], index=['Actual Down', 'Actual Up'])\n",
    "\n",
    "print(cm_df)\n",
    "\n",
    "print('Accuracy:', accuracy)"
   ]
  },
  {
   "cell_type": "code",
   "execution_count": 17,
   "id": "033b725f",
   "metadata": {},
   "outputs": [
    {
     "name": "stdout",
     "output_type": "stream",
     "text": [
      "182\n",
      "[0.49017925 0.4792185  0.46681848 0.47400107 0.49278766 0.49385615\n",
      " 0.49510156 0.4872861  0.49070135 0.48440262 0.49069628 0.51199885\n",
      " 0.48951523 0.47067612 0.47445929 0.47995834 0.49357753 0.50308938\n",
      " 0.49788061 0.48863309]\n",
      "0\n"
     ]
    }
   ],
   "source": [
    "# check number of instances where posterior probability of Down is less than 0.5\n",
    "print(np.sum(lda_fit.predict_proba(X_test)[:, 0] < 0.5))\n",
    "\n",
    "# print the posterior probabilities of first 20 instances for the first group\n",
    "print(lda_fit.predict_proba(X_test[:20])[:, 0])\n",
    "\n",
    "# check number of instances where posterior probability of Down is greater than 0.9\n",
    "print(np.sum(lda_fit.predict_proba(X_test)[:, 0] > 0.9))"
   ]
  },
  {
   "cell_type": "markdown",
   "id": "4237dd0d",
   "metadata": {},
   "source": [
    "### Naive Bayes"
   ]
  },
  {
   "cell_type": "code",
   "execution_count": 18,
   "id": "0b2395c1",
   "metadata": {},
   "outputs": [
    {
     "name": "stdout",
     "output_type": "stream",
     "text": [
      "Prior probabilities of groups:\n",
      "[0.49198397 0.50801603]\n",
      "Conditional probabilities:\n",
      "[[ 0.04279022  0.03389409]\n",
      " [-0.03954635 -0.03132544]]\n"
     ]
    }
   ],
   "source": [
    "from sklearn.naive_bayes import GaussianNB\n",
    "\n",
    "# subset the training set\n",
    "train = Smarket['Year'] < 2005\n",
    "\n",
    "# create Naive Bayes model using Lag1 and Lag2 as predictors\n",
    "X_train = Smarket.loc[train, ['Lag1', 'Lag2']]\n",
    "y_train = Smarket.loc[train, 'Direction']\n",
    "nb_fit = GaussianNB().fit(X_train, y_train)\n",
    "\n",
    "# print prior probabilities and conditional probabilities\n",
    "print(\"Prior probabilities of groups:\")\n",
    "print(nb_fit.class_prior_)\n",
    "print(\"Conditional probabilities:\")\n",
    "print(nb_fit.theta_)"
   ]
  },
  {
   "cell_type": "code",
   "execution_count": 19,
   "id": "0f56372e",
   "metadata": {},
   "outputs": [
    {
     "name": "stdout",
     "output_type": "stream",
     "text": [
      "0.04279022403258655\n",
      "1.226195046492573\n"
     ]
    }
   ],
   "source": [
    "import numpy as np\n",
    "from sklearn.naive_bayes import GaussianNB\n",
    "\n",
    "# Subset the training set\n",
    "train = Smarket['Year'] < 2005\n",
    "\n",
    "# Calculate mean and standard deviation of Lag1 for instances where Direction is \"Down\" in the training set\n",
    "print(np.mean(Smarket.loc[train & (Smarket['Direction'] == 'Down'), 'Lag1']))\n",
    "print(np.std(Smarket.loc[train & (Smarket['Direction'] == 'Down'), 'Lag1']))\n",
    "\n",
    "# Create Naive Bayes model using Lag1 and Lag2 as predictors\n",
    "X_train = Smarket.loc[train, ['Lag1', 'Lag2']]\n",
    "y_train = Smarket.loc[train, 'Direction']\n",
    "nb_fit = GaussianNB().fit(X_train, y_train)"
   ]
  },
  {
   "cell_type": "markdown",
   "id": "d9a397ee",
   "metadata": {},
   "source": [
    "The output shows the mean and standard deviation of the 'Lag1' variable for the instances in the training set where the 'Direction' variable is equal to \"Down\".\n",
    "\n",
    "The mean of 'Lag1' for instances where the market moved down is 0.0428, which indicates a small positive average return on the previous day's performance.\n",
    "\n",
    "The standard deviation of 'Lag1' for instances where the market moved down is 1.226, which indicates a relatively high variability in the previous day's performance."
   ]
  },
  {
   "cell_type": "code",
   "execution_count": 20,
   "id": "e8ca8b7f",
   "metadata": {},
   "outputs": [
    {
     "name": "stdout",
     "output_type": "stream",
     "text": [
      "      Down   Up\n",
      "Down    29   20\n",
      "Up      82  121 \n",
      "\n",
      "[[0.4873288  0.5126712 ]\n",
      " [0.47623584 0.52376416]\n",
      " [0.46529531 0.53470469]\n",
      " [0.47484469 0.52515531]\n",
      " [0.49020587 0.50979413]] \n",
      "\n",
      "0.5952380952380952\n"
     ]
    }
   ],
   "source": [
    "# Predict the Direction for the 2005 test set using the Naive Bayes model\n",
    "nb_class = nb_fit.predict(Smarket.loc[~train, ['Lag1', 'Lag2']])\n",
    "print(pd.crosstab(index=nb_class, columns=Smarket.loc[~train, 'Direction'])\n",
    "        .rename_axis(index=None, columns=None), \"\\n\")\n",
    "\n",
    "# Predict the posterior probabilities of the test set using the Naive Bayes model\n",
    "nb_preds = nb_fit.predict_proba(Smarket.loc[~train, ['Lag1', 'Lag2']])\n",
    "print(nb_preds[:5], \"\\n\")\n",
    "\n",
    "# Calculate the accuracy of the Naive Bayes model\n",
    "print(np.mean(nb_class == Smarket.loc[~train, 'Direction']))"
   ]
  },
  {
   "cell_type": "markdown",
   "id": "60933fbb",
   "metadata": {},
   "source": [
    "First, the code predicts the direction of the stock market for the test set (year 2005) using the Naive Bayes model that was trained using the Lag1 and Lag2 variables. First, the code predicts the direction of the stock market for the test set (year 2005) using the Naive Bayes model that was trained using the Lag1 and Lag2 variables. \n",
    "\n",
    "The posterior probabilities shows the probabilities of the market going down or up, respectively, for the first five instances in the test set.\n",
    "\n",
    "It predicted 29 instances of the market going down when it actually went down, 20 instances of the market going down when it actually went up, 82 instances of the market going up when it actually went down, and 121 instances of the market going up when it actually went up. The accuracy of the model is 0.595, which means that it correctly predicted the direction of the stock market about 60% of the time. "
   ]
  },
  {
   "cell_type": "markdown",
   "id": "98fd483d",
   "metadata": {},
   "source": [
    "### Now for K-Nearest Neighbors"
   ]
  },
  {
   "cell_type": "code",
   "execution_count": 21,
   "id": "a50a51e5",
   "metadata": {},
   "outputs": [
    {
     "name": "stdout",
     "output_type": "stream",
     "text": [
      "            Unnamed: 0      Year      Lag1      Lag2      Lag3      Lag4  \\\n",
      "Unnamed: 0    1.000000  0.979773  0.035415  0.036022  0.038989  0.041437   \n",
      "Year          0.979773  1.000000  0.029700  0.030596  0.033195  0.035689   \n",
      "Lag1          0.035415  0.029700  1.000000 -0.026294 -0.010803 -0.002986   \n",
      "Lag2          0.036022  0.030596 -0.026294  1.000000 -0.025897 -0.010854   \n",
      "Lag3          0.038989  0.033195 -0.010803 -0.025897  1.000000 -0.024051   \n",
      "Lag4          0.041437  0.035689 -0.002986 -0.010854 -0.024051  1.000000   \n",
      "Lag5          0.035025  0.029788 -0.005675 -0.003558 -0.018808 -0.027084   \n",
      "Volume        0.546348  0.539006  0.040910 -0.043383 -0.041824 -0.048414   \n",
      "Today         0.035273  0.030095 -0.026155 -0.010250 -0.002448 -0.006900   \n",
      "\n",
      "                Lag5    Volume     Today  \n",
      "Unnamed: 0  0.035025  0.546348  0.035273  \n",
      "Year        0.029788  0.539006  0.030095  \n",
      "Lag1       -0.005675  0.040910 -0.026155  \n",
      "Lag2       -0.003558 -0.043383 -0.010250  \n",
      "Lag3       -0.018808 -0.041824 -0.002448  \n",
      "Lag4       -0.027084 -0.048414 -0.006900  \n",
      "Lag5        1.000000 -0.022002 -0.034860  \n",
      "Volume     -0.022002  1.000000  0.014592  \n",
      "Today      -0.034860  0.014592  1.000000  \n",
      "            Unnamed: 0      Year      Lag1      Lag2      Lag3      Lag4  \\\n",
      "Unnamed: 0    1.000000  0.979773  0.035415  0.036022  0.038989  0.041437   \n",
      "Year          0.979773  1.000000  0.029700  0.030596  0.033195  0.035689   \n",
      "Lag1          0.035415  0.029700  1.000000 -0.026294 -0.010803 -0.002986   \n",
      "Lag2          0.036022  0.030596 -0.026294  1.000000 -0.025897 -0.010854   \n",
      "Lag3          0.038989  0.033195 -0.010803 -0.025897  1.000000 -0.024051   \n",
      "Lag4          0.041437  0.035689 -0.002986 -0.010854 -0.024051  1.000000   \n",
      "Lag5          0.035025  0.029788 -0.005675 -0.003558 -0.018808 -0.027084   \n",
      "Volume        0.546348  0.539006  0.040910 -0.043383 -0.041824 -0.048414   \n",
      "Today         0.035273  0.030095 -0.026155 -0.010250 -0.002448 -0.006900   \n",
      "\n",
      "                Lag5    Volume     Today  \n",
      "Unnamed: 0  0.035025  0.546348  0.035273  \n",
      "Year        0.029788  0.539006  0.030095  \n",
      "Lag1       -0.005675  0.040910 -0.026155  \n",
      "Lag2       -0.003558 -0.043383 -0.010250  \n",
      "Lag3       -0.018808 -0.041824 -0.002448  \n",
      "Lag4       -0.027084 -0.048414 -0.006900  \n",
      "Lag5        1.000000 -0.022002 -0.034860  \n",
      "Volume     -0.022002  1.000000  0.014592  \n",
      "Today      -0.034860  0.014592  1.000000  \n"
     ]
    },
    {
     "name": "stderr",
     "output_type": "stream",
     "text": [
      "C:\\Users\\pedro\\AppData\\Local\\Temp\\ipykernel_15984\\769700146.py:2: FutureWarning: The default value of numeric_only in DataFrame.corr is deprecated. In a future version, it will default to False. Select only valid columns or specify the value of numeric_only to silence this warning.\n",
      "  corr_matrix = Smarket.corr()\n"
     ]
    }
   ],
   "source": [
    "# Compute the correlation matrix\n",
    "corr_matrix = Smarket.corr()\n",
    "print(corr_matrix)\n",
    "\n",
    "# Compute the correlation matrix without the Direction column\n",
    "corr_matrix_no_direction = Smarket.iloc[:, :-1].corr()\n",
    "print(corr_matrix_no_direction)"
   ]
  },
  {
   "cell_type": "code",
   "execution_count": 22,
   "id": "8057b024",
   "metadata": {},
   "outputs": [
    {
     "name": "stdout",
     "output_type": "stream",
     "text": [
      "Direction  Down  Up\n",
      "row_0              \n",
      "Down         48  55\n",
      "Up           63  86\n",
      "0.5317460317460317\n"
     ]
    }
   ],
   "source": [
    "from sklearn.neighbors import KNeighborsClassifier\n",
    "\n",
    "# Split the data into training and testing sets\n",
    "train = Smarket['Year'] < 2005\n",
    "train_X = Smarket.loc[train, ['Lag1', 'Lag2']]\n",
    "test_X = Smarket.loc[~train, ['Lag1', 'Lag2']]\n",
    "train_direction = Smarket.loc[train, 'Direction']\n",
    "\n",
    "# Set the random seed and fit the KNN model\n",
    "np.random.seed(1)\n",
    "knn_model = KNeighborsClassifier(n_neighbors=3)\n",
    "knn_model.fit(train_X, train_direction)\n",
    "\n",
    "# Make predictions on the test set and display the results\n",
    "knn_preds = knn_model.predict(test_X)\n",
    "print(pd.crosstab(knn_preds, Smarket.loc[~train, 'Direction']))\n",
    "print(np.mean(knn_preds == Smarket.loc[~train, 'Direction']))"
   ]
  },
  {
   "cell_type": "markdown",
   "id": "e59528b1",
   "metadata": {},
   "source": [
    "### At Last Quadratic Discriminant Analysis"
   ]
  },
  {
   "cell_type": "code",
   "execution_count": 23,
   "id": "905ada94",
   "metadata": {},
   "outputs": [
    {
     "name": "stdout",
     "output_type": "stream",
     "text": [
      "Prior probabilities of groups:\n",
      "[0.49198397 0.50801603]\n",
      "Group means:\n",
      "[[ 0.04279022  0.03389409]\n",
      " [-0.03954635 -0.03132544]]\n",
      "Direction  Down   Up\n",
      "row_0               \n",
      "Down         30   20\n",
      "Up           81  121\n",
      "0.5992063492063492\n"
     ]
    }
   ],
   "source": [
    "from sklearn.discriminant_analysis import QuadraticDiscriminantAnalysis\n",
    "\n",
    "# subset the training set\n",
    "train = Smarket['Year'] < 2005\n",
    "\n",
    "# fit the QDA model using Lag1 and Lag2 as predictors\n",
    "X_train = Smarket.loc[train, ['Lag1', 'Lag2']]\n",
    "y_train = Smarket.loc[train, 'Direction']\n",
    "qda_fit = QuadraticDiscriminantAnalysis().fit(X_train, y_train)\n",
    "\n",
    "# print prior probabilities and group means\n",
    "print(\"Prior probabilities of groups:\")\n",
    "print(qda_fit.priors_)\n",
    "print(\"Group means:\")\n",
    "print(qda_fit.means_)\n",
    "\n",
    "# predict the Direction for the 2005 test set using the QDA model\n",
    "qda_class = qda_fit.predict(Smarket.loc[~train, ['Lag1', 'Lag2']])\n",
    "print(pd.crosstab(qda_class, Smarket.loc[~train, 'Direction']))\n",
    "\n",
    "# calculate the accuracy of the QDA model\n",
    "print(np.mean(qda_class == Smarket.loc[~train, 'Direction']))"
   ]
  },
  {
   "cell_type": "code",
   "execution_count": null,
   "id": "2f5e89e4",
   "metadata": {},
   "outputs": [],
   "source": []
  }
 ],
 "metadata": {
  "kernelspec": {
   "display_name": "Python 3 (ipykernel)",
   "language": "python",
   "name": "python3"
  },
  "language_info": {
   "codemirror_mode": {
    "name": "ipython",
    "version": 3
   },
   "file_extension": ".py",
   "mimetype": "text/x-python",
   "name": "python",
   "nbconvert_exporter": "python",
   "pygments_lexer": "ipython3",
   "version": "3.11.1"
  }
 },
 "nbformat": 4,
 "nbformat_minor": 5
}
